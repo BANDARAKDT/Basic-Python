{
  "nbformat": 4,
  "nbformat_minor": 0,
  "metadata": {
    "colab": {
      "provenance": []
    },
    "kernelspec": {
      "name": "python3",
      "display_name": "Python 3"
    },
    "language_info": {
      "name": "python"
    }
  },
  "cells": [
    {
      "cell_type": "code",
      "execution_count": 11,
      "metadata": {
        "colab": {
          "base_uri": "https://localhost:8080/"
        },
        "id": "5-CmS2EftM-0",
        "outputId": "ac1c78b5-1b82-4f46-e24f-81110fd1ebbf"
      },
      "outputs": [
        {
          "output_type": "stream",
          "name": "stdout",
          "text": [
            "3.14\n",
            "9.8\n"
          ]
        }
      ],
      "source": [
        "#declare constants\n",
        "PI=3.14\n",
        "GRAVITY=9.8\n",
        "\n",
        "print(PI)\n",
        "print(GRAVITY)"
      ]
    },
    {
      "cell_type": "code",
      "source": [
        "# constant.py\n",
        "\n",
        "PI=3.14\n",
        "GRAVITY =9.8\n"
      ],
      "metadata": {
        "id": "AHk6jhUVwaCV"
      },
      "execution_count": null,
      "outputs": []
    },
    {
      "cell_type": "code",
      "source": [
        "import constants\n",
        "print(constants.PI)\n",
        "print(constants.GRAVITY)"
      ],
      "metadata": {
        "id": "CQWHK-prxJZT"
      },
      "execution_count": null,
      "outputs": []
    },
    {
      "cell_type": "markdown",
      "source": [
        "Python docstrings\n",
        "\n",
        "A docstring in Python is a string literal that appears right after the definition of a function, method, class, or module. It is used to document what that function/class/module does.\n",
        "\n",
        "Docstrings are used to:\n",
        "\n",
        "Explain the purpose of the code\n",
        "\n",
        "Help other developers understand your code\n",
        "\n",
        "Automatically generate documentation (e.g., with tools like Sphinx)\n",
        "\n",
        "ou define a docstring using triple quotes: \"\"\" ... \"\"\" or ''' ... '''."
      ],
      "metadata": {
        "id": "UyyqAsvDxt6T"
      }
    },
    {
      "cell_type": "markdown",
      "source": [
        "One line docstrings\n",
        "\n",
        "You can access it using the .__doc__ attribute."
      ],
      "metadata": {
        "id": "RvFKWZkBybhI"
      }
    },
    {
      "cell_type": "code",
      "source": [
        "def quicksort():\n",
        "  \"\"\"this is the function call quicksort\"\"\"\n",
        "\n",
        "print(quicksort.__doc__)"
      ],
      "metadata": {
        "colab": {
          "base_uri": "https://localhost:8080/"
        },
        "id": "M3TpOV9CyfFU",
        "outputId": "152f7c2d-fb8a-4456-c2c2-77f89691ac5e"
      },
      "execution_count": 14,
      "outputs": [
        {
          "output_type": "stream",
          "name": "stdout",
          "text": [
            "this is the function call quicksort\n"
          ]
        }
      ]
    },
    {
      "cell_type": "code",
      "source": [
        "class Person:\n",
        "    \"\"\"This is a class.\"\"\"\n",
        "\n",
        "    def __init__(self, name, age):\n",
        "        \"\"\"This is the constructor.\"\"\"\n",
        "        self.name = name\n",
        "        self.age = age\n",
        "\n",
        "# Create an object\n",
        "p = Person(\"Tharu\", 25)\n",
        "\n",
        "# Access attributes\n",
        "print(p.name)\n",
        "print(p.age)\n",
        "\n",
        "# Access docstrings\n",
        "print(Person.__doc__)\n",
        "print(Person.__init__.__doc__)\n"
      ],
      "metadata": {
        "colab": {
          "base_uri": "https://localhost:8080/"
        },
        "id": "J2dPp4ZyzLuV",
        "outputId": "9042d84f-2b59-49ab-e71d-c43311f51d77"
      },
      "execution_count": 19,
      "outputs": [
        {
          "output_type": "stream",
          "name": "stdout",
          "text": [
            "Tharu\n",
            "25\n",
            "This is a class.\n",
            "This is the constructor.\n"
          ]
        }
      ]
    },
    {
      "cell_type": "code",
      "source": [
        "#multi-line docstrings\n",
        "\n",
        "def increase(salary,percentage,rating):\n",
        "  \"\"\" increase salary based on rating and percentage\n",
        "  rating 1-2 no increace\n",
        "  rating 3-4 increase 5%\n",
        "  \"\"\"\n",
        "\n",
        "\n",
        "print(increase.__doc__)"
      ],
      "metadata": {
        "colab": {
          "base_uri": "https://localhost:8080/"
        },
        "id": "JOaQMObt0rMX",
        "outputId": "f826d7f6-9d16-4dc8-8e73-e67824f8eb02"
      },
      "execution_count": 20,
      "outputs": [
        {
          "output_type": "stream",
          "name": "stdout",
          "text": [
            " increase salary based on rating and percentage\n",
            "  rating 1-2 no increace\n",
            "  rating 3-4 increase 5%\n",
            "  \n"
          ]
        }
      ]
    },
    {
      "cell_type": "markdown",
      "source": [
        "Type conversion in Python"
      ],
      "metadata": {
        "id": "1uWkxrUo1G9m"
      }
    },
    {
      "cell_type": "code",
      "source": [
        "number =input('enter a number')\n",
        "print(number)"
      ],
      "metadata": {
        "colab": {
          "base_uri": "https://localhost:8080/"
        },
        "id": "A4x-fyIG1Sm8",
        "outputId": "3d22792e-f5a0-4887-8d9e-10b244e61857"
      },
      "execution_count": 22,
      "outputs": [
        {
          "output_type": "stream",
          "name": "stdout",
          "text": [
            "enter a numberde\n",
            "de\n"
          ]
        }
      ]
    },
    {
      "cell_type": "code",
      "source": [
        "price = input('Enter the price ($):')\n",
        "tax = input('Enter the tax rate (%):')\n",
        "net_price = float(price) * int(tax)/100\n",
        "print(f'The net price is ${net_price:.2f}')"
      ],
      "metadata": {
        "colab": {
          "base_uri": "https://localhost:8080/"
        },
        "id": "sgmh8SX42ntn",
        "outputId": "45662006-9053-4222-9439-1204c1e2ad60"
      },
      "execution_count": 29,
      "outputs": [
        {
          "output_type": "stream",
          "name": "stdout",
          "text": [
            "Enter the price ($):5000.25\n",
            "Enter the tax rate (%):40\n",
            "The net price is $2000.10\n"
          ]
        }
      ]
    },
    {
      "cell_type": "markdown",
      "source": [
        "List"
      ],
      "metadata": {
        "id": "diQxyJST6UEn"
      }
    },
    {
      "cell_type": "code",
      "source": [
        "thisList=['apple','banana','cherry',[2,5,4,7]]\n",
        "print(thisList)\n",
        "\n",
        "print(thisList[0])\n",
        "print(thisList[3][1])\n",
        "\n",
        "print(thisList[::2])\n",
        "print(thisList[:])\n",
        "\n",
        "del thisList[1]\n",
        "print(thisList)\n",
        "thisList.append(5)\n",
        "del thisList\n"
      ],
      "metadata": {
        "colab": {
          "base_uri": "https://localhost:8080/"
        },
        "id": "X2V_IDYl6VQe",
        "outputId": "523e0fbd-62c3-4dfc-b122-334abd306812"
      },
      "execution_count": 41,
      "outputs": [
        {
          "output_type": "stream",
          "name": "stdout",
          "text": [
            "['apple', 'banana', 'cherry', [2, 5, 4, 7]]\n",
            "apple\n",
            "5\n",
            "['apple', 'cherry']\n",
            "['apple', 'banana', 'cherry', [2, 5, 4, 7]]\n",
            "['apple', 'cherry', [2, 5, 4, 7]]\n"
          ]
        }
      ]
    }
  ]
}