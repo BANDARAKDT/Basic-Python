{
  "nbformat": 4,
  "nbformat_minor": 0,
  "metadata": {
    "colab": {
      "provenance": []
    },
    "kernelspec": {
      "name": "python3",
      "display_name": "Python 3"
    },
    "language_info": {
      "name": "python"
    }
  },
  "cells": [
    {
      "cell_type": "markdown",
      "source": [
        "# Mean/Median/Mode\n",
        "\n",
        "\n",
        "• Mean - The average value\n",
        "\n",
        "• Median - The mid point value\n",
        "\n",
        "• Mode - The most common value"
      ],
      "metadata": {
        "id": "IKUYPuPflHhc"
      }
    },
    {
      "cell_type": "markdown",
      "source": [
        "**Mean**"
      ],
      "metadata": {
        "id": "5bQuHSOQlOhA"
      }
    },
    {
      "cell_type": "code",
      "execution_count": 1,
      "metadata": {
        "colab": {
          "base_uri": "https://localhost:8080/"
        },
        "id": "owDB3artkOzU",
        "outputId": "89cf7187-5e24-4e43-968f-3c516cceae38"
      },
      "outputs": [
        {
          "output_type": "stream",
          "name": "stdout",
          "text": [
            "89.76923076923077\n"
          ]
        }
      ],
      "source": [
        "import numpy\n",
        "speed=[99,86,87,88,111,86,103,87,94,78,77,85,86]\n",
        "x=numpy.mean(speed)\n",
        "print(x)"
      ]
    },
    {
      "cell_type": "markdown",
      "source": [
        "**Median**"
      ],
      "metadata": {
        "id": "PzdPjNV0lyCp"
      }
    },
    {
      "cell_type": "code",
      "source": [
        "import numpy\n",
        "speed=[99,86,87,88,111,86,103,87,94,78,77,85,86]\n",
        "x=numpy.median(speed)\n",
        "print(x)"
      ],
      "metadata": {
        "colab": {
          "base_uri": "https://localhost:8080/"
        },
        "id": "4F76Q5nGly8I",
        "outputId": "f627648a-14fe-4790-ca42-3d6086d3c39e"
      },
      "execution_count": 2,
      "outputs": [
        {
          "output_type": "stream",
          "name": "stdout",
          "text": [
            "87.0\n"
          ]
        }
      ]
    },
    {
      "cell_type": "markdown",
      "source": [
        "**Mode**"
      ],
      "metadata": {
        "id": "-T8xuWwql_IP"
      }
    },
    {
      "cell_type": "code",
      "source": [
        "from scipy import stats\n",
        "speed=[99,85,6,56,6,6,6,78,99,54,7]\n",
        "x=stats.mode(speed)\n",
        "print(x)"
      ],
      "metadata": {
        "colab": {
          "base_uri": "https://localhost:8080/"
        },
        "id": "x77BuNhzl_-x",
        "outputId": "3da42efc-7e24-4bdf-f3be-a2d7bb0a6a0c"
      },
      "execution_count": 3,
      "outputs": [
        {
          "output_type": "stream",
          "name": "stdout",
          "text": [
            "ModeResult(mode=np.int64(6), count=np.int64(4))\n"
          ]
        }
      ]
    },
    {
      "cell_type": "markdown",
      "source": [
        "**Standard Deviation**"
      ],
      "metadata": {
        "id": "BpqRjqYMmU5B"
      }
    },
    {
      "cell_type": "code",
      "source": [
        "import numpy\n",
        "speed=[86,87,88,86,85,86]\n",
        "x=numpy.std(speed)\n",
        "print(x)\n"
      ],
      "metadata": {
        "colab": {
          "base_uri": "https://localhost:8080/"
        },
        "id": "KICV5WNxmWE4",
        "outputId": "27b81311-40b1-410f-9c5e-d38efad18410"
      },
      "execution_count": 4,
      "outputs": [
        {
          "output_type": "stream",
          "name": "stdout",
          "text": [
            "0.9428090415820634\n"
          ]
        }
      ]
    },
    {
      "cell_type": "markdown",
      "source": [
        "**Variance**"
      ],
      "metadata": {
        "id": "MQWCCbV6mxYQ"
      }
    },
    {
      "cell_type": "code",
      "source": [
        "import numpy\n",
        "speed=[32,111,138,28,59,77,94]\n",
        "x=numpy.var(speed)\n",
        "print(x)"
      ],
      "metadata": {
        "colab": {
          "base_uri": "https://localhost:8080/"
        },
        "id": "cdjRW-2jmzav",
        "outputId": "4b4e71e6-6bd3-45de-d872-fd808e024b37"
      },
      "execution_count": 5,
      "outputs": [
        {
          "output_type": "stream",
          "name": "stdout",
          "text": [
            "1416.5714285714287\n"
          ]
        }
      ]
    },
    {
      "cell_type": "markdown",
      "source": [
        "**Percentiles**"
      ],
      "metadata": {
        "id": "wdcP2QoanFMH"
      }
    },
    {
      "cell_type": "code",
      "source": [
        "import numpy\n",
        "ages=[5,31,43,48,50,41,7,11,15,39,80,82,32,2,8,6,25,36,27,61,31]\n",
        "x=numpy.percentile(ages,75)\n",
        "print(x)"
      ],
      "metadata": {
        "colab": {
          "base_uri": "https://localhost:8080/"
        },
        "id": "YpPtwj41nGFA",
        "outputId": "d805c0f6-3ece-4e9d-a2cc-ad8b509f92ef"
      },
      "execution_count": 6,
      "outputs": [
        {
          "output_type": "stream",
          "name": "stdout",
          "text": [
            "43.0\n"
          ]
        }
      ]
    },
    {
      "cell_type": "markdown",
      "source": [
        "**Data Distribution**\n",
        "\n",
        "\n",
        "• In the real world, the data sets are much bigger, but it\n",
        "can be difficult to gather real world data, at least at an\n",
        "early stage of a project.\n",
        "\n",
        "• To create big data sets for testing, we use the Python\n",
        "module NumPy, which comes with a number of methods\n",
        "to create random data sets, of any size."
      ],
      "metadata": {
        "id": "05EGpQjmoD-I"
      }
    },
    {
      "cell_type": "code",
      "source": [
        "import numpy\n",
        "x=numpy.random.uniform(0.0,5.0,250)\n",
        "print(x)"
      ],
      "metadata": {
        "colab": {
          "base_uri": "https://localhost:8080/"
        },
        "id": "5qO-mwubpGYg",
        "outputId": "6b34501a-83ce-4bb3-c22f-8a2846aacc27"
      },
      "execution_count": 7,
      "outputs": [
        {
          "output_type": "stream",
          "name": "stdout",
          "text": [
            "[4.92945208 4.28405743 3.52891249 3.57693799 3.59917681 3.50675578\n",
            " 0.99687339 3.29737267 3.25310822 3.61148134 2.61011465 3.95763035\n",
            " 2.94968322 2.35593127 3.44304355 4.32535137 0.68583997 3.42589639\n",
            " 3.12087767 1.08203747 2.84906607 2.33777181 0.32336165 0.11276317\n",
            " 1.89048344 3.22601589 2.59365735 0.9546494  0.81418541 2.46054062\n",
            " 2.81695488 0.75819436 1.80490751 4.54210608 1.38219827 3.43568656\n",
            " 0.09813014 2.17244337 2.31038287 1.64742142 3.85885001 3.83577354\n",
            " 4.00150232 4.2847373  1.23319598 1.47853343 1.14956052 0.57624372\n",
            " 1.07600217 2.93274933 4.15414681 2.39679713 2.0301759  4.38384852\n",
            " 0.47211482 2.25698156 2.31972714 0.96810882 4.67577434 0.36920548\n",
            " 1.67776702 0.27179602 2.86191544 4.36472439 4.21714135 1.67077792\n",
            " 4.23452176 4.1083072  3.1200107  0.8169404  3.83254523 0.15855376\n",
            " 2.7457323  4.71390909 0.43269702 0.93114798 2.92500535 1.84054258\n",
            " 1.50713811 4.12346776 0.93378009 4.29738124 0.09829419 3.43194029\n",
            " 0.31341344 0.04504694 1.10580232 3.47650072 3.62311097 2.68710566\n",
            " 1.97697037 1.97580867 0.66481998 3.4121376  2.23956016 4.25798894\n",
            " 2.62387063 3.44175239 2.55575624 4.48568107 0.98838901 0.14193426\n",
            " 2.2602869  3.83914243 3.42445798 4.67414794 4.36954602 1.53268563\n",
            " 2.77870171 3.29525514 3.55982543 1.12688829 0.83661764 2.1671967\n",
            " 3.13397374 1.02783975 1.01336748 1.69486675 1.94629204 3.11764093\n",
            " 2.54933838 1.47110464 3.0423205  2.87183862 3.85311128 4.35116662\n",
            " 3.46368202 0.52400203 0.13804292 3.76906646 4.14935352 4.67643999\n",
            " 0.92907672 3.06640994 0.9612448  0.21159453 0.03481196 0.12263188\n",
            " 2.37321866 3.53667595 3.99064282 2.96033574 1.34975603 0.52694445\n",
            " 4.06766192 3.52123649 0.1109224  4.26660369 3.75192988 0.95203295\n",
            " 4.20950271 0.9775357  1.85523432 2.75977503 0.3326585  3.99512867\n",
            " 4.7542745  0.70854569 1.68905934 0.32846578 0.89235662 0.09452822\n",
            " 2.83213784 3.98056253 4.86862617 4.72048937 4.07276663 2.73781394\n",
            " 1.54157449 4.07319199 4.73648059 0.51394722 2.61499228 0.88383432\n",
            " 2.75332093 1.10801208 4.78699185 4.84934718 4.17484741 0.6365162\n",
            " 3.42684682 3.0793949  4.30584652 4.42975173 4.304346   4.99534007\n",
            " 3.13494372 1.12262815 2.18867663 4.20037677 1.88189481 3.81434426\n",
            " 3.66413054 3.13084084 0.11001219 3.64607673 0.74684012 2.26833867\n",
            " 0.34682585 1.29778312 3.24507174 1.4488497  0.18207112 4.11912823\n",
            " 4.52516158 0.28885645 4.89721551 4.03889586 3.30116602 1.64211713\n",
            " 0.75814902 4.5086913  2.21041166 4.39865789 3.23097745 3.42240429\n",
            " 3.08945809 1.76045797 2.36745396 4.94015244 4.76074244 2.62774189\n",
            " 0.37247152 1.46595731 4.56761427 4.39878901 1.61386004 1.56137564\n",
            " 2.99260642 0.34268963 3.77084914 1.52832628 1.82783636 0.12645952\n",
            " 2.94329781 0.96806855 2.17566982 4.56768715 4.28285625 3.77086562\n",
            " 0.93239624 0.2092238  0.36719294 0.48382631 1.7138072  1.39924069\n",
            " 0.04579804 3.22732473 0.03067134 3.72916795]\n"
          ]
        }
      ]
    },
    {
      "cell_type": "markdown",
      "source": [
        "**Histograms**"
      ],
      "metadata": {
        "id": "hlPystxdpTcJ"
      }
    },
    {
      "cell_type": "code",
      "source": [
        "import numpy\n",
        "import matplotlib.pyplot as plt\n",
        "x=numpy.random.uniform(0.0,5.0,300)\n",
        "plt.hist(x,5)\n",
        "plt.show()"
      ],
      "metadata": {
        "colab": {
          "base_uri": "https://localhost:8080/",
          "height": 430
        },
        "id": "ci9zBUYQpe2v",
        "outputId": "b468ac0c-5c9b-4311-d29d-67a6ad309079"
      },
      "execution_count": 9,
      "outputs": [
        {
          "output_type": "display_data",
          "data": {
            "text/plain": [
              "<Figure size 640x480 with 1 Axes>"
            ],
            "image/png": "[encoded data removed]"
          },
          "metadata": {}
        }
      ]
    },
    {
      "cell_type": "code",
      "source": [
        "import numpy\n",
        "import matplotlib.pyplot as plt\n",
        "\n",
        "x=numpy.random.rand(1000)\n",
        "plt.hist(x,100)\n",
        "plt.show()"
      ],
      "metadata": {
        "colab": {
          "base_uri": "https://localhost:8080/",
          "height": 430
        },
        "id": "bDwZ0JLXqAzz",
        "outputId": "d86d612a-c0d7-4238-830f-d55a4a7cf6e7"
      },
      "execution_count": 12,
      "outputs": [
        {
          "output_type": "display_data",
          "data": {
            "text/plain": [
              "<Figure size 640x480 with 1 Axes>"
            ],
            "image/png": "[encoded data removed]"
          },
          "metadata": {}
        }
      ]
    },
    {
      "cell_type": "markdown",
      "source": [
        "**Normal Data Distribution**"
      ],
      "metadata": {
        "id": "fP48goUjqpD6"
      }
    },
    {
      "cell_type": "code",
      "source": [
        "import numpy\n",
        "import matplotlib.pyplot as plt\n",
        "\n",
        "x=numpy.random.normal(5.0,1.0,100000)\n",
        "\n",
        "plt.hist(x,100)\n",
        "plt.show()"
      ],
      "metadata": {
        "colab": {
          "base_uri": "https://localhost:8080/",
          "height": 430
        },
        "id": "ZDH0_XbUrnwI",
        "outputId": "3c3cdf24-d6d8-4483-a5ea-57a4a67f26ef"
      },
      "execution_count": 11,
      "outputs": [
        {
          "output_type": "display_data",
          "data": {
            "text/plain": [
              "<Figure size 640x480 with 1 Axes>"
            ],
            "image/png": "[encoded data removed]"
          },
          "metadata": {}
        }
      ]
    },
    {
      "cell_type": "markdown",
      "source": [
        "**Scatter Plot**"
      ],
      "metadata": {
        "id": "p6VBN9DMsB8g"
      }
    },
    {
      "cell_type": "code",
      "source": [
        "\n",
        "import matplotlib.pyplot as plt\n",
        "x = [5,7,8,7,2,17,2,9,4,11,12,9,6]\n",
        "y = [99,86,87,88,111,86,103,87,94,78,77,85,86]\n",
        "plt.scatter(x,y)\n",
        "plt.show()"
      ],
      "metadata": {
        "colab": {
          "base_uri": "https://localhost:8080/",
          "height": 430
        },
        "id": "KLdB9mbGsLEK",
        "outputId": "3ff33c6a-6f4a-4b50-a1dc-1a3312087292"
      },
      "execution_count": 14,
      "outputs": [
        {
          "output_type": "display_data",
          "data": {
            "text/plain": [
              "<Figure size 640x480 with 1 Axes>"
            ],
            "image/png": "[encoded data removed]"
          },
          "metadata": {}
        }
      ]
    },
    {
      "cell_type": "code",
      "source": [
        "import numpy\n",
        "import matplotlib.pyplot as plt\n",
        "\n",
        "x=numpy.random.normal(5.0,1.0,1000)\n",
        "y=numpy.random.normal(1.0,2.0,1000)\n",
        "\n",
        "plt.scatter(x,y)\n",
        "plt.show()"
      ],
      "metadata": {
        "colab": {
          "base_uri": "https://localhost:8080/",
          "height": 430
        },
        "id": "Eh-I8ecIsmTi",
        "outputId": "586a8166-b335-4c31-bfb3-fd8873dc62cb"
      },
      "execution_count": 15,
      "outputs": [
        {
          "output_type": "display_data",
          "data": {
            "text/plain": [
              "<Figure size 640x480 with 1 Axes>"
            ],
            "image/png": "[encoded data removed]"
          },
          "metadata": {}
        }
      ]
    },
    {
      "cell_type": "code",
      "source": [
        "import matplotlib.pyplot as plt\n",
        "\n",
        "x = [5,7,8,7,2,17,2,9,4,11,12,9,6]\n",
        "y = [99,86,87,88,111,86,103,87,94,78,77,85,86]\n",
        "\n",
        "plt.scatter(x,y)\n",
        "plt.show()"
      ],
      "metadata": {
        "colab": {
          "base_uri": "https://localhost:8080/",
          "height": 430
        },
        "id": "cthsCFjtwlph",
        "outputId": "6988eb2f-4727-4ffe-ec2a-68494252318e"
      },
      "execution_count": 17,
      "outputs": [
        {
          "output_type": "display_data",
          "data": {
            "text/plain": [
              "<Figure size 640x480 with 1 Axes>"
            ],
            "image/png": "[encoded data removed]"
          },
          "metadata": {}
        }
      ]
    },
    {
      "cell_type": "markdown",
      "source": [
        "**Linear Regression**"
      ],
      "metadata": {
        "id": "zh6FeDFjs8aB"
      }
    },
    {
      "cell_type": "code",
      "source": [
        "import matplotlib.pyplot as plt\n",
        "from scipy import stats\n",
        "x = [5,7,8,7,2,17,2,9,4,11,12,9,6]\n",
        "y = [99,86,87,88,111,86,103,87,94,78,77,85,86]\n",
        "slope,intercept,r,p,std_err=stats.linregress(x,y)\n",
        "\n",
        "def myfunc(x):\n",
        "  return slope * x+ intercept\n",
        "mymodel= list(map(myfunc,x))\n",
        "\n",
        "plt.scatter(x,y)\n",
        "plt.plot(x,mymodel)\n",
        "plt.show()\n"
      ],
      "metadata": {
        "colab": {
          "base_uri": "https://localhost:8080/",
          "height": 430
        },
        "id": "_3jUCB7zwV6h",
        "outputId": "8e000cb4-b41d-4a42-8987-0bae84602d3d"
      },
      "execution_count": 20,
      "outputs": [
        {
          "output_type": "display_data",
          "data": {
            "text/plain": [
              "<Figure size 640x480 with 1 Axes>"
            ],
            "image/png": "[encoded data removed]"
          },
          "metadata": {}
        }
      ]
    },
    {
      "cell_type": "code",
      "source": [
        "from scipy import stats\n",
        "x = [5,7,8,7,2,17,2,9,4,11,12,9,6]\n",
        "y = [99,86,87,88,111,86,103,87,94,78,77,85,86]\n",
        "\n",
        "slope,intercept,r,p,std_err = stats.linregress(x,y)\n",
        "\n",
        "print(r)"
      ],
      "metadata": {
        "colab": {
          "base_uri": "https://localhost:8080/"
        },
        "id": "EowpVI2XyI0y",
        "outputId": "09244f3e-b759-49a1-c8fd-94699b795b0d"
      },
      "execution_count": 21,
      "outputs": [
        {
          "output_type": "stream",
          "name": "stdout",
          "text": [
            "-0.758591524376155\n"
          ]
        }
      ]
    },
    {
      "cell_type": "markdown",
      "source": [
        "**Predict Future Values**"
      ],
      "metadata": {
        "id": "NPHjMoxOyXeb"
      }
    },
    {
      "cell_type": "code",
      "source": [
        "from scipy import stats\n",
        "\n",
        "x = [5,7,8,7,2,17,2,9,4,11,12,9,6]\n",
        "y = [99,86,87,88,111,86,103,87,94,78,77,85,86]\n",
        "\n",
        "slope,intercept,r,p,std_err=stats.linregress(x,y)\n",
        "\n",
        "def myfunc(x):\n",
        "  return slope *x +intercept\n",
        "speed=myfunc(10)\n",
        "\n",
        "print(speed)"
      ],
      "metadata": {
        "colab": {
          "base_uri": "https://localhost:8080/"
        },
        "id": "_QpPRp8tyuOQ",
        "outputId": "0d151bf3-2394-4d69-fe94-f7fe7a4d17c6"
      },
      "execution_count": 22,
      "outputs": [
        {
          "output_type": "stream",
          "name": "stdout",
          "text": [
            "85.59308314937454\n"
          ]
        }
      ]
    },
    {
      "cell_type": "markdown",
      "source": [
        "**Multiple Regression**"
      ],
      "metadata": {
        "id": "5GSj1kVfzIvr"
      }
    },
    {
      "cell_type": "code",
      "source": [
        "import pandas as pd\n",
        "from sklearn import linear_model\n",
        "\n",
        "df=pd.read_csv(\"data.csv\")\n",
        "x=df[['weight','volume']]\n",
        "y=df['CO2']\n",
        "\n",
        "regr=linear_model.LinearRegression()\n",
        "regr.fit(x,y)\n",
        "\n",
        "#predict the CO2 emission of a car where the weight is 2300kg, and the volume is 1300cm3:\n",
        "\n",
        "predictedCO2 =regr.predict([[2300,1300]])\n",
        "\n",
        "print(predictedCO2)\n",
        "\n"
      ],
      "metadata": {
        "id": "wqo0PPQNzKMi"
      },
      "execution_count": null,
      "outputs": []
    },
    {
      "cell_type": "markdown",
      "source": [
        "✅ Code Explanation in Points:\n",
        "import pandas\n",
        "→ Loads the pandas library to handle tabular data.\n",
        "\n",
        "from sklearn import linear_model\n",
        "→ Imports the linear_model module from scikit-learn for linear regression.\n",
        "\n",
        "df = pandas.read_csv(\"data.csv\")\n",
        "→ Reads the CSV file data.csv into a DataFrame called df.\n",
        "\n",
        "X = df[['Weight', 'Volume']]\n",
        "→ Selects Weight and Volume columns as input features (X).\n",
        "\n",
        "y = df['CO2']\n",
        "→ Selects the CO2 column as the target output (y).\n",
        "\n",
        "regr = linear_model.LinearRegression()\n",
        "→ Creates a Linear Regression model.\n",
        "\n",
        "regr.fit(X, y)\n",
        "→ Trains the model using X and y.\n",
        "\n",
        "predictedCO2 = regr.predict([[2300, 1300]])\n",
        "→ Predicts CO₂ emission for a car with 2300kg weight and 1300cm³ volume.\n",
        "\n",
        "print(predictedCO2)\n",
        "→ Prints the predicted CO₂ value."
      ],
      "metadata": {
        "id": "rSQtYetg1I-T"
      }
    },
    {
      "cell_type": "markdown",
      "source": [
        "**Coefficient**"
      ],
      "metadata": {
        "id": "dGkLrbgI1MH8"
      }
    },
    {
      "cell_type": "code",
      "source": [
        "import pandas\n",
        "from sklearn import linear_model\n",
        "\n",
        "df=pandas.read_csv(\"Data.csv\")\n",
        "\n",
        "x=df[['weight','volume']]\n",
        "y=df['CO2']\n",
        "\n",
        "regr=linear_model.LinearRegression()\n",
        "regr.fit(x,y)\n",
        "\n",
        "print(regr.coef_)\n",
        "\n"
      ],
      "metadata": {
        "id": "wLJpbMt52MJj"
      },
      "execution_count": null,
      "outputs": []
    },
    {
      "cell_type": "markdown",
      "source": [
        "*****Copy the example from before, but change the weight from\n",
        "2300 to 3300:"
      ],
      "metadata": {
        "id": "Bs67hWtH3P2L"
      }
    },
    {
      "cell_type": "code",
      "source": [
        "import pandas\n",
        "from sklearn import linear_model\n",
        "df=pandas.read_csv(\"data.csv\")\n",
        "\n",
        "x=df[['weight','volume']]\n",
        "y=df['CO2']\n",
        "\n",
        "regr=linear_model.LinearRegression()\n",
        "regr.fit(x,y)\n",
        "\n",
        "predictedCO2=regr.predict([[3300,1300]])\n",
        "print(predictedCO2)"
      ],
      "metadata": {
        "id": "_RPCpk_u3RuL"
      },
      "execution_count": null,
      "outputs": []
    },
    {
      "cell_type": "code",
      "source": [
        "# Import required Libraries :\n",
        "import pandas as pd\n",
        "import numpy as np\n",
        "import matplotlib.pyplot as plt\n",
        "from sklearn import linear_model\n",
        "\n",
        "#Read csv file:\n",
        "data= pd.read_csv(\"Fuel.csv\")\n",
        "data.head()\n",
        "#Let's select some features to explore more :\n",
        "data = data [[\"ENGINESIZE\", \"CO2EMISSIONS\"]]\n",
        "\n",
        "\n",
        "# ENGINESIZE vs C02EMISSIONS:\n",
        "plt.scatter (data [\"ENGINESIZE\"], data[\"CO2EMISSIONS\"], color=\"blue\")\n",
        "plt.xlabel(\"ENGINESIZE\")\n",
        "plt.ylabel(\"CO2EMISSIONS\")\n",
        "plt.show()\n",
        "\n",
        "# Generating training and testing data from our data:\n",
        "# We are using 80% data for training.\n",
        "train = data[: (int((len(data)*0.8)))]\n",
        "test = data[(int((len(data)*0.8))):]\n",
        "\n",
        "\n",
        "#Modeling:\n",
        "#Using sklearn package to model data:\n",
        "from sklearn import linear_model\n",
        "regr = linear_model.LinearRegression()\n",
        "train_x = np.array(train[[\"ENGINESIZE\"]])\n",
        "train_y = np.array(train[[\"C02EMISSIONS\"]])\n",
        "regr.fit(train_x, train_y)\n",
        "#The coefficients:\n",
        "print (\"coefficients: \",regr.coef_)\n",
        "print (\"Intercept : \",regr.intercept_)\n",
        "\n",
        "\n",
        "# Plotting the regression Line:\n",
        "plt.scatter(train[\"ENGINESIZE\"], train[\"CO2EMISSIONS\"], color='blue')\n",
        "plt.plot(train_x, regr.coef_*train_x + regr.intercept_,'-r')\n",
        "plt.xlabel(\"Engine size\")\n",
        "plt.ylabel(\"Emission\")\n",
        "\n",
        "\n",
        "# Predicting values :\n",
        "# Function for predicting future values\n",
        "def get_regression_predictions(input_features, intercept, slope):\n",
        "  predicted_values = input_features*slope + intercept\n",
        "  return predicted_values\n",
        "\n",
        "\n",
        "  # Predicting emission for future car:\n",
        "my_engine_size = 3.5\n",
        "estimatd_emission = get_regression_predictions(my_engine_size,regr.intercept_[0],regr.coef_[0][0])\n",
        "print (\"Estimated Emission :\",estimatd_emission)\n",
        "\n",
        "\n",
        "# Checking various accuraсу\n",
        "from sklearn.metrics import r2_score\n",
        "test_x = np.array(test[['ENGINESIZE']])\n",
        "test_y = np.array(test[['CO2EMISSIONS']])\n",
        "test_y_ = regr.predict(test_x)\n",
        "print(\"Mean absolute error: %.2f\" % np.mean(np.absolute(test_y_ - test_y)))\n",
        "print(\"Mean sum of squares (MSE): %.2f\" % np.mean((test_y_- test_y) ** 2))\n",
        "print(\"R2-score: %.2f\" % r2_score(test_y_, test_y) )\n"
      ],
      "metadata": {
        "id": "Vp6gjUnV4ODt"
      },
      "execution_count": null,
      "outputs": []
    }
  ]
}