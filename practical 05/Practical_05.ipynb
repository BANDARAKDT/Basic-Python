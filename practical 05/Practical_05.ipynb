{
  "nbformat": 4,
  "nbformat_minor": 0,
  "metadata": {
    "colab": {
      "provenance": []
    },
    "kernelspec": {
      "name": "python3",
      "display_name": "Python 3"
    },
    "language_info": {
      "name": "python"
    }
  },
  "cells": [
    {
      "cell_type": "markdown",
      "source": [
        "# Python - Modules"
      ],
      "metadata": {
        "id": "zg441uSZu-CM"
      }
    },
    {
      "cell_type": "markdown",
      "source": [
        "🧩 What is a Python Module?\n",
        "A module is simply a Python file (.py) that contains:\n",
        "\n",
        "Functions\n",
        "\n",
        "Classes\n",
        "\n",
        "Variables\n",
        "\n",
        "Executable code\n",
        "\n",
        "Modules allow you to organize your code into reusable, manageable pieces.\n",
        "Instead of writing all your code in one large file, you can separate it into multiple modules and import them as needed.\n",
        "\n",
        "📥 The import Statement\n",
        "You use the import statement to include a module into another Python file so you can use its contents."
      ],
      "metadata": {
        "id": "ZCNjTNU8wKph"
      }
    },
    {
      "cell_type": "code",
      "source": [
        "#import module_name\n",
        "\n",
        "\n",
        "#If you have a file called math_utils.py:\n",
        "\n",
        "# math_utils.py\n",
        "def add(x, y):\n",
        "    return x + y\n",
        "\n",
        "#You can import and use it in another file:\n",
        "\n",
        "import math_utils\n",
        "\n",
        "result = math_utils.add(3, 5)\n",
        "print(result)  # Output: 8\n"
      ],
      "metadata": {
        "colab": {
          "base_uri": "https://localhost:8080/",
          "height": 383
        },
        "id": "Y1uKhx4yxmf6",
        "outputId": "1b9c3cb5-72e3-4ad1-f85d-2a753ff208ac"
      },
      "execution_count": 2,
      "outputs": [
        {
          "output_type": "error",
          "ename": "ModuleNotFoundError",
          "evalue": "No module named 'math_utils'",
          "traceback": [
            "\u001b[0;31m---------------------------------------------------------------------------\u001b[0m",
            "\u001b[0;31mModuleNotFoundError\u001b[0m                       Traceback (most recent call last)",
            "\u001b[0;32m<ipython-input-2-80809aa64931>\u001b[0m in \u001b[0;36m<cell line: 0>\u001b[0;34m()\u001b[0m\n\u001b[1;32m     10\u001b[0m \u001b[0;31m#You can import and use it in another file:\u001b[0m\u001b[0;34m\u001b[0m\u001b[0;34m\u001b[0m\u001b[0m\n\u001b[1;32m     11\u001b[0m \u001b[0;34m\u001b[0m\u001b[0m\n\u001b[0;32m---> 12\u001b[0;31m \u001b[0;32mimport\u001b[0m \u001b[0mmath_utils\u001b[0m\u001b[0;34m\u001b[0m\u001b[0;34m\u001b[0m\u001b[0m\n\u001b[0m\u001b[1;32m     13\u001b[0m \u001b[0;34m\u001b[0m\u001b[0m\n\u001b[1;32m     14\u001b[0m \u001b[0mresult\u001b[0m \u001b[0;34m=\u001b[0m \u001b[0mmath_utils\u001b[0m\u001b[0;34m.\u001b[0m\u001b[0madd\u001b[0m\u001b[0;34m(\u001b[0m\u001b[0;36m3\u001b[0m\u001b[0;34m,\u001b[0m \u001b[0;36m5\u001b[0m\u001b[0;34m)\u001b[0m\u001b[0;34m\u001b[0m\u001b[0;34m\u001b[0m\u001b[0m\n",
            "\u001b[0;31mModuleNotFoundError\u001b[0m: No module named 'math_utils'",
            "",
            "\u001b[0;31m---------------------------------------------------------------------------\u001b[0;32m\nNOTE: If your import is failing due to a missing package, you can\nmanually install dependencies using either !pip or !apt.\n\nTo view examples of installing some common dependencies, click the\n\"Open Examples\" button below.\n\u001b[0;31m---------------------------------------------------------------------------\u001b[0m\n"
          ],
          "errorDetails": {
            "actions": [
              {
                "action": "open_url",
                "actionText": "Open Examples",
                "url": "/notebooks/snippets/importing_libraries.ipynb"
              }
            ]
          }
        }
      ]
    },
    {
      "cell_type": "markdown",
      "source": [
        "Python OOPs Concepts"
      ],
      "metadata": {
        "id": "6FnZEfDnZglk"
      }
    },
    {
      "cell_type": "code",
      "execution_count": 4,
      "metadata": {
        "colab": {
          "base_uri": "https://localhost:8080/"
        },
        "id": "w-prsQf8u9RF",
        "outputId": "080fe6a2-5432-454d-ddb4-d1689c0631d5"
      },
      "outputs": [
        {
          "output_type": "stream",
          "name": "stdout",
          "text": [
            "hi, I am dela and I am 25years old\n"
          ]
        }
      ],
      "source": [
        "class Person:\n",
        "  def __init__(self,name,age):\n",
        "    self.name=name\n",
        "    self.age=age\n",
        "\n",
        "  def greet(self):\n",
        "    print(f'hi, I am {self.name} and I am {self.age}years old')\n",
        "\n",
        "output=Person('dela',25)\n",
        "output.greet()"
      ]
    },
    {
      "cell_type": "markdown",
      "source": [
        "Python Inheritance"
      ],
      "metadata": {
        "id": "hdCqP-13eP3e"
      }
    },
    {
      "cell_type": "code",
      "source": [
        "class Employee(Person):\n",
        "  def __init__(self, name, age,job):\n",
        "    super().__init__(name, age)\n",
        "    self.job=job\n",
        "\n",
        "  def show_job(self):\n",
        "    print(f\"my job is {self.job}\")\n",
        "\n",
        "e1=Employee(\"bob\",30,\"Engineer\")\n",
        "e1.greet()\n",
        "e1.show_job()"
      ],
      "metadata": {
        "colab": {
          "base_uri": "https://localhost:8080/"
        },
        "id": "U6mV7XG7eQsh",
        "outputId": "c698291e-9269-4389-84a7-bc5d938686e1"
      },
      "execution_count": 5,
      "outputs": [
        {
          "output_type": "stream",
          "name": "stdout",
          "text": [
            "hi, I am bob and I am 30years old\n",
            "my job is Engineer\n"
          ]
        }
      ]
    },
    {
      "cell_type": "code",
      "source": [
        "class Animal:\n",
        "  def eat(self):\n",
        "    print(\"I can eat\")\n",
        "\n",
        "  def sleep(self):\n",
        "    print(\"I can sleep\")\n",
        "\n",
        "#derived class\n",
        "class Dog(Animal):\n",
        "  def bark(self):\n",
        "    print(\"I can bark! woof! woof!!\")\n",
        "\n",
        "\n",
        "dog1=Dog()\n",
        "dog1.eat()\n",
        "dog1.sleep()\n",
        "\n",
        "dog1.bark();"
      ],
      "metadata": {
        "colab": {
          "base_uri": "https://localhost:8080/"
        },
        "id": "cHJlnm-lfFEL",
        "outputId": "0df58031-55ab-4018-ae28-a819c7ecb186"
      },
      "execution_count": 6,
      "outputs": [
        {
          "output_type": "stream",
          "name": "stdout",
          "text": [
            "I can eat\n",
            "I can sleep\n",
            "I can bark! woof! woof!!\n"
          ]
        }
      ]
    },
    {
      "cell_type": "markdown",
      "source": [
        "Python Encapsulation"
      ],
      "metadata": {
        "id": "qIaIshNFjPV2"
      }
    },
    {
      "cell_type": "code",
      "source": [
        "class BankAccount:\n",
        "  def __init__(self,balance):\n",
        "    self.__balance = balance\n",
        "\n",
        "  def deposit(self,amount):\n",
        "    if amount > 0:\n",
        "      self.__balance+=amount\n",
        "\n",
        "  def get_balance(self):\n",
        "    return self.__balance\n",
        "\n",
        "acc= BankAccount(1000)\n",
        "acc.deposit(500)\n",
        "print(acc.get_balance())"
      ],
      "metadata": {
        "colab": {
          "base_uri": "https://localhost:8080/"
        },
        "id": "GKQYjiCIjQEr",
        "outputId": "7c02393f-94ee-4cb4-eaf6-af528eaf9d2e"
      },
      "execution_count": 7,
      "outputs": [
        {
          "output_type": "stream",
          "name": "stdout",
          "text": [
            "1500\n"
          ]
        }
      ]
    },
    {
      "cell_type": "code",
      "source": [
        "class Computer:\n",
        "  def __init__(self):\n",
        "    self.__maxprice= 900  #private attribute\n",
        "\n",
        "  def sell(self):\n",
        "    print(\"selling price:{}\".format(self.__maxprice))\n",
        "\n",
        "  def setMaxPrice(self, price):\n",
        "    self.__maxprice = price\n",
        "\n",
        "\n",
        "c=Computer()\n",
        "c.sell()\n",
        "\n",
        "c.__maxprice = 1000\n",
        "\n",
        "c.sell()\n",
        "\n",
        "c.setMaxPrice(1000)\n",
        "c.sell()"
      ],
      "metadata": {
        "colab": {
          "base_uri": "https://localhost:8080/"
        },
        "id": "eF83SXTgklE1",
        "outputId": "a09a8de6-6f76-4773-82d1-35bf1281cdc9"
      },
      "execution_count": 11,
      "outputs": [
        {
          "output_type": "stream",
          "name": "stdout",
          "text": [
            "selling price:900\n",
            "selling price:900\n",
            "selling price:1000\n"
          ]
        }
      ]
    },
    {
      "cell_type": "markdown",
      "source": [
        "Polymorphism"
      ],
      "metadata": {
        "id": "ixRRAiMgn0Y-"
      }
    },
    {
      "cell_type": "markdown",
      "source": [
        "Polymorphism means having the same method name but different behavior depending on the object."
      ],
      "metadata": {
        "id": "aKcp7sBFn5tc"
      }
    },
    {
      "cell_type": "code",
      "source": [
        "class Polygon:\n",
        "  def render(self):\n",
        "    print(\"Rendering polygon\")\n",
        "\n",
        "class Square(Polygon):\n",
        "  def render(self):\n",
        "    print(\"rendering square\")\n",
        "\n",
        "class Circle(Polygon):\n",
        "  def render(self):\n",
        "    print(\"rendering circle\")\n",
        "\n",
        "#create an object of square\n",
        "s1 = Square()\n",
        "s1.render()\n",
        "\n",
        "#create an object of circle\n",
        "c1 = Circle()\n",
        "c1.render()"
      ],
      "metadata": {
        "colab": {
          "base_uri": "https://localhost:8080/"
        },
        "id": "zf8KSDGXn1pE",
        "outputId": "c012a6f3-0e13-4fb5-a949-5be3bea4bcf3"
      },
      "execution_count": 16,
      "outputs": [
        {
          "output_type": "stream",
          "name": "stdout",
          "text": [
            "rendering square\n",
            "rendering circle\n"
          ]
        }
      ]
    }
  ]
}