{
  "nbformat": 4,
  "nbformat_minor": 0,
  "metadata": {
    "colab": {
      "provenance": []
    },
    "kernelspec": {
      "name": "python3",
      "display_name": "Python 3"
    },
    "language_info": {
      "name": "python"
    }
  },
  "cells": [
    {
      "cell_type": "markdown",
      "source": [
        "Python Tuples"
      ],
      "metadata": {
        "id": "kedxpj3ZAUVi"
      }
    },
    {
      "cell_type": "code",
      "execution_count": 6,
      "metadata": {
        "colab": {
          "base_uri": "https://localhost:8080/"
        },
        "id": "lod0EjzfADkP",
        "outputId": "170689cb-119b-4a3e-9c2e-46ecf9503a91"
      },
      "outputs": [
        {
          "output_type": "stream",
          "name": "stdout",
          "text": [
            "red\n",
            "3\n",
            "<class 'tuple'>\n",
            "('Apple', 'banana', 'cherry')\n",
            "('Apple', 'kiwi', 'cherry')\n"
          ]
        }
      ],
      "source": [
        "rgb=('red','green','blue')\n",
        "print(rgb[0])\n",
        "\n",
        "print(len(rgb))\n",
        "\n",
        "\n",
        "tuple1=('abc',34,True)\n",
        "print(type(tuple1))\n",
        "\n",
        "\n",
        "\n",
        "#convert into a list\n",
        "x=(\"Apple\",\"banana\",\"cherry\")\n",
        "\n",
        "y=list(x)\n",
        "print(x)\n",
        "\n",
        "y[1]='kiwi'\n",
        "\n",
        "x=tuple(y)\n",
        "print(x)"
      ]
    },
    {
      "cell_type": "code",
      "source": [
        "tuple3=(\"Apple\",\"banana\",\"cherry\")\n",
        "for i in range(len(tuple3)):\n",
        "  print(tuple3[i])"
      ],
      "metadata": {
        "colab": {
          "base_uri": "https://localhost:8080/"
        },
        "id": "NLsvqDHKCFkZ",
        "outputId": "59493da4-dbf9-4675-9a1f-8b66af4b0836"
      },
      "execution_count": 7,
      "outputs": [
        {
          "output_type": "stream",
          "name": "stdout",
          "text": [
            "Apple\n",
            "banana\n",
            "cherry\n"
          ]
        }
      ]
    },
    {
      "cell_type": "code",
      "source": [
        "tuple4=(\"Apple\",\"banana\",\"cherry\")\n",
        "i=0\n",
        "while i<len(tuple4):\n",
        "  print(tuple4[i])\n",
        "  i=i+1"
      ],
      "metadata": {
        "colab": {
          "base_uri": "https://localhost:8080/"
        },
        "id": "S4OZNHl7CaIX",
        "outputId": "c930b3fd-e3a1-4082-b428-826245d87efa"
      },
      "execution_count": 8,
      "outputs": [
        {
          "output_type": "stream",
          "name": "stdout",
          "text": [
            "Apple\n",
            "banana\n",
            "cherry\n"
          ]
        }
      ]
    },
    {
      "cell_type": "markdown",
      "source": [
        "Python Sets"
      ],
      "metadata": {
        "id": "GpZUqulaCnKB"
      }
    },
    {
      "cell_type": "code",
      "source": [
        "skills={'python','database','software design'}\n",
        "\n",
        "empty_set={}\n",
        "empty_set=set()\n",
        "skills=set()\n",
        "\n",
        "if not skills:\n",
        "  print('Empty sets are falsy')"
      ],
      "metadata": {
        "colab": {
          "base_uri": "https://localhost:8080/"
        },
        "id": "ozvwlDbOCodK",
        "outputId": "18ab5339-c989-412e-daf7-be7cfedc88d7"
      },
      "execution_count": 10,
      "outputs": [
        {
          "output_type": "stream",
          "name": "stdout",
          "text": [
            "Empty sets are falsy\n"
          ]
        }
      ]
    },
    {
      "cell_type": "code",
      "source": [
        "#create a set from a list\n",
        "\n",
        "a=[2,5,8,6,3,1,4]\n",
        "sample=set(a)\n",
        "print(sample)"
      ],
      "metadata": {
        "colab": {
          "base_uri": "https://localhost:8080/"
        },
        "id": "lFE5GevRDppR",
        "outputId": "9649e0da-4f0e-4849-e5a6-594c123331c7"
      },
      "execution_count": 12,
      "outputs": [
        {
          "output_type": "stream",
          "name": "stdout",
          "text": [
            "{1, 2, 3, 4, 5, 6, 8}\n"
          ]
        }
      ]
    },
    {
      "cell_type": "code",
      "source": [
        "book_set={'harry potter',\"angle\",\"atlas \"}\n",
        "\n",
        "if \"angle\" in book_set:\n",
        "  print(\"Book exists in the book set\")\n",
        "else:\n",
        "  print(\"book does not exists in the book set\")\n",
        "\n",
        "  print(\"yo yo\")"
      ],
      "metadata": {
        "colab": {
          "base_uri": "https://localhost:8080/"
        },
        "id": "ocblp_xpEDXR",
        "outputId": "08519011-0f4e-4d5a-e05f-43e1c4760eec"
      },
      "execution_count": 13,
      "outputs": [
        {
          "output_type": "stream",
          "name": "stdout",
          "text": [
            "Book exists in the book set\n"
          ]
        }
      ]
    },
    {
      "cell_type": "markdown",
      "source": [
        "removing items from a set"
      ],
      "metadata": {
        "id": "PEWR3Sk2EvZi"
      }
    },
    {
      "cell_type": "code",
      "source": [
        "color_set={'red','orange','yellow','white'}\n",
        "color_set.remove('yellow')\n",
        "print(color_set)\n",
        "color_set.discard(\"red\")\n",
        "print(color_set)\n",
        "\n",
        "deleteitem= color_set.pop()\n",
        "print(deleteitem)\n",
        "\n",
        "color_set.clear()\n",
        "print(color_set)"
      ],
      "metadata": {
        "colab": {
          "base_uri": "https://localhost:8080/"
        },
        "id": "jOaH41_hEzTr",
        "outputId": "85dfb0ef-f71b-44dc-b7d7-b63a8cdefbbe"
      },
      "execution_count": 15,
      "outputs": [
        {
          "output_type": "stream",
          "name": "stdout",
          "text": [
            "{'white', 'red', 'orange'}\n",
            "{'white', 'orange'}\n",
            "white\n",
            "set()\n"
          ]
        }
      ]
    },
    {
      "cell_type": "markdown",
      "source": [
        "Python Dictionaries"
      ],
      "metadata": {
        "id": "y0P-H-CwF_CT"
      }
    },
    {
      "cell_type": "code",
      "source": [
        "dict1={\n",
        "    'brand':'Ford',\n",
        "    'model':\"yo yo\",\n",
        "    'year':1985\n",
        "}\n",
        "\n",
        "print(dict1)\n",
        "print(dict1.keys())\n",
        "print(dict1.values())"
      ],
      "metadata": {
        "colab": {
          "base_uri": "https://localhost:8080/"
        },
        "id": "r2-AdVmyGAla",
        "outputId": "6cf25f34-10f2-415b-cb0c-a6ed5242b54b"
      },
      "execution_count": 18,
      "outputs": [
        {
          "output_type": "stream",
          "name": "stdout",
          "text": [
            "{'brand': 'Ford', 'model': 'yo yo', 'year': 1985}\n",
            "dict_keys(['brand', 'model', 'year'])\n",
            "dict_values(['Ford', 'yo yo', 1985])\n"
          ]
        }
      ]
    }
  ]
}