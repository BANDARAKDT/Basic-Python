{
  "nbformat": 4,
  "nbformat_minor": 0,
  "metadata": {
    "colab": {
      "provenance": []
    },
    "kernelspec": {
      "name": "python3",
      "display_name": "Python 3"
    },
    "language_info": {
      "name": "python"
    }
  },
  "cells": [
    {
      "cell_type": "markdown",
      "source": [
        "Python Flow Control"
      ],
      "metadata": {
        "id": "zipUAFnOJIrz"
      }
    },
    {
      "cell_type": "markdown",
      "source": [
        "Python if...else Statement"
      ],
      "metadata": {
        "id": "Ff3HiRRQJXth"
      }
    },
    {
      "cell_type": "code",
      "execution_count": 1,
      "metadata": {
        "colab": {
          "base_uri": "https://localhost:8080/"
        },
        "id": "1FFmlpZuIlOd",
        "outputId": "738e5729-0887-475c-8377-3821e21d4a71"
      },
      "outputs": [
        {
          "output_type": "stream",
          "name": "stdout",
          "text": [
            "oy oy\n"
          ]
        }
      ],
      "source": [
        "number =5\n",
        "if number >0:\n",
        "  print(\"oy oy\")"
      ]
    },
    {
      "cell_type": "code",
      "source": [
        "number =10\n",
        "if number >0:\n",
        "  print('positive number')\n",
        "else:\n",
        "  print('negative number')\n",
        "\n",
        "print('this statement is always executed')"
      ],
      "metadata": {
        "colab": {
          "base_uri": "https://localhost:8080/"
        },
        "id": "ek-CqlM4LRbF",
        "outputId": "f5010dfe-ba9e-4827-992a-1449f4027f56"
      },
      "execution_count": 2,
      "outputs": [
        {
          "output_type": "stream",
          "name": "stdout",
          "text": [
            "positive number\n",
            "this statement is always executed\n"
          ]
        }
      ]
    },
    {
      "cell_type": "code",
      "source": [
        "number =0\n",
        "if number >0:\n",
        "  print('positive number')\n",
        "elif number ==0:\n",
        "  print('zero')\n",
        "else:\n",
        "  print('negative number')"
      ],
      "metadata": {
        "colab": {
          "base_uri": "https://localhost:8080/"
        },
        "id": "ytINgs8hLhiz",
        "outputId": "c25d7cf0-403e-42f4-d891-6f9bb916ec6c"
      },
      "execution_count": 3,
      "outputs": [
        {
          "output_type": "stream",
          "name": "stdout",
          "text": [
            "zero\n"
          ]
        }
      ]
    },
    {
      "cell_type": "markdown",
      "source": [
        "Python for Loop"
      ],
      "metadata": {
        "id": "M9Ry9358MOC2"
      }
    },
    {
      "cell_type": "code",
      "source": [
        "num= [1,2,5,7,9,6,3]\n",
        "for i in range(len(num)):\n",
        "  print(num[i])\n",
        "  i=i+1"
      ],
      "metadata": {
        "colab": {
          "base_uri": "https://localhost:8080/"
        },
        "id": "Q-ntF-7mMRXb",
        "outputId": "4b062d31-ea6f-43dc-f2d9-a2780b6e2269"
      },
      "execution_count": 5,
      "outputs": [
        {
          "output_type": "stream",
          "name": "stdout",
          "text": [
            "1\n",
            "2\n",
            "5\n",
            "7\n",
            "9\n",
            "6\n",
            "3\n"
          ]
        }
      ]
    },
    {
      "cell_type": "code",
      "source": [
        "i=1\n",
        "n=5\n",
        "while i<=n:\n",
        "  print(i)\n",
        "  i=i+1"
      ],
      "metadata": {
        "colab": {
          "base_uri": "https://localhost:8080/"
        },
        "id": "2H8FYwcrMz37",
        "outputId": "2920f93b-f657-4130-ba42-e1a8ea545edc"
      },
      "execution_count": 6,
      "outputs": [
        {
          "output_type": "stream",
          "name": "stdout",
          "text": [
            "1\n",
            "2\n",
            "3\n",
            "4\n",
            "5\n"
          ]
        }
      ]
    },
    {
      "cell_type": "markdown",
      "source": [
        "# Python Functions"
      ],
      "metadata": {
        "id": "YqVT52rONIrC"
      }
    },
    {
      "cell_type": "markdown",
      "source": [
        "Types of function\n",
        "\n",
        "• Standard library functions - These are built-in functions in Python\n",
        "\n",
        "that are available to use.\n",
        "• User-defined functions - We can create our own functions based on\n",
        "our requirements.\n"
      ],
      "metadata": {
        "id": "SNyiaiGdNUbD"
      }
    },
    {
      "cell_type": "code",
      "source": [
        "def greet():\n",
        "  print(\"good morning\")\n",
        "\n",
        "greet()"
      ],
      "metadata": {
        "colab": {
          "base_uri": "https://localhost:8080/"
        },
        "id": "R8cx7LhNNKfL",
        "outputId": "c9e6a1a3-e9e0-4abf-89dc-551f2334c452"
      },
      "execution_count": 8,
      "outputs": [
        {
          "output_type": "stream",
          "name": "stdout",
          "text": [
            "good morning\n"
          ]
        }
      ]
    },
    {
      "cell_type": "code",
      "source": [
        "def addnum(num1,num2):\n",
        "  sum=num1+num2\n",
        "  print(sum)\n",
        "\n",
        "addnum(10,20)"
      ],
      "metadata": {
        "colab": {
          "base_uri": "https://localhost:8080/"
        },
        "id": "_Rb3CGqaN-9b",
        "outputId": "aa354ea7-6ed7-4425-a8ce-9cc6d24fe8b4"
      },
      "execution_count": 9,
      "outputs": [
        {
          "output_type": "stream",
          "name": "stdout",
          "text": [
            "30\n"
          ]
        }
      ]
    },
    {
      "cell_type": "code",
      "source": [
        "def find_squre(num):\n",
        "  result=num*num\n",
        "  return result\n",
        "\n",
        "find_squre(2)"
      ],
      "metadata": {
        "colab": {
          "base_uri": "https://localhost:8080/"
        },
        "id": "3QzSyG8-OcHM",
        "outputId": "56df9674-aea3-478c-bf50-c34412792223"
      },
      "execution_count": 10,
      "outputs": [
        {
          "output_type": "execute_result",
          "data": {
            "text/plain": [
              "4"
            ]
          },
          "metadata": {},
          "execution_count": 10
        }
      ]
    },
    {
      "cell_type": "code",
      "source": [
        "def greet(name,message='hi'):\n",
        "  return f\"{message}{name}\"\n",
        "\n",
        "print(greet('dela'))"
      ],
      "metadata": {
        "colab": {
          "base_uri": "https://localhost:8080/"
        },
        "id": "QqyiADSiPTgs",
        "outputId": "71f1da1a-6f10-4cc1-e0ae-ebe98984dce0"
      },
      "execution_count": 11,
      "outputs": [
        {
          "output_type": "stream",
          "name": "stdout",
          "text": [
            "hidela\n"
          ]
        }
      ]
    },
    {
      "cell_type": "code",
      "source": [
        "def get_net_price(price,tax=0.07,discount=0.05):\n",
        "  return price *(1+tax-discount)\n",
        "\n",
        "net_price =get_net_price(100)\n",
        "print(net_price)"
      ],
      "metadata": {
        "colab": {
          "base_uri": "https://localhost:8080/"
        },
        "id": "z_CfiK4QQSxV",
        "outputId": "18245ac3-73d8-43cf-86c4-2256458accf7"
      },
      "execution_count": 12,
      "outputs": [
        {
          "output_type": "stream",
          "name": "stdout",
          "text": [
            "102.0\n"
          ]
        }
      ]
    }
  ]
}