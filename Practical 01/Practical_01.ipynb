{
  "nbformat": 4,
  "nbformat_minor": 0,
  "metadata": {
    "colab": {
      "provenance": []
    },
    "kernelspec": {
      "name": "python3",
      "display_name": "Python 3"
    },
    "language_info": {
      "name": "python"
    }
  },
  "cells": [
    {
      "cell_type": "markdown",
      "source": [
        "# Artificial Intelligent"
      ],
      "metadata": {
        "id": "XG-rEOuPPNkD"
      }
    },
    {
      "cell_type": "markdown",
      "source": [
        "**Practical 01**"
      ],
      "metadata": {
        "id": "7Qn-5Z8dPRub"
      }
    },
    {
      "cell_type": "code",
      "execution_count": 1,
      "metadata": {
        "colab": {
          "base_uri": "https://localhost:8080/"
        },
        "id": "qWs0kD_MPI5w",
        "outputId": "79adca55-08b1-4ff7-884c-9caa1eb92eff"
      },
      "outputs": [
        {
          "output_type": "stream",
          "name": "stdout",
          "text": [
            "Hello, world!\n"
          ]
        }
      ],
      "source": [
        "#hello world\n",
        "\n",
        "print('Hello, world!')"
      ]
    },
    {
      "cell_type": "code",
      "source": [
        "#Whitespace and indentation\n",
        "def main():\n",
        "  i=1\n",
        "  max=10\n",
        "  while(i<max):\n",
        "    print(i)\n",
        "    i=i+1\n",
        "\n",
        "main()"
      ],
      "metadata": {
        "colab": {
          "base_uri": "https://localhost:8080/"
        },
        "id": "AobleS8EQ5HT",
        "outputId": "49934d00-6b25-430c-8379-338f4158dfa9"
      },
      "execution_count": 2,
      "outputs": [
        {
          "output_type": "stream",
          "name": "stdout",
          "text": [
            "1\n",
            "2\n",
            "3\n",
            "4\n",
            "5\n",
            "6\n",
            "7\n",
            "8\n",
            "9\n"
          ]
        }
      ]
    },
    {
      "cell_type": "code",
      "source": [
        "#Comments"
      ],
      "metadata": {
        "id": "CfX9fJRyRQFk"
      },
      "execution_count": null,
      "outputs": []
    },
    {
      "cell_type": "code",
      "source": [
        "a=True\n",
        "b=False\n",
        "c=True\n",
        "\n",
        "#Continuation of statements\n",
        "\n",
        "if(a==True)and(b==False)and\\\n",
        "  (c==True):\n",
        "  print(\"Continuation of statements\")"
      ],
      "metadata": {
        "colab": {
          "base_uri": "https://localhost:8080/"
        },
        "id": "U0Wl4wUuRWj6",
        "outputId": "19e98ae1-565d-419a-e6c1-1e11b2014267"
      },
      "execution_count": 9,
      "outputs": [
        {
          "output_type": "stream",
          "name": "stdout",
          "text": [
            "Continuation of statements\n"
          ]
        }
      ]
    },
    {
      "cell_type": "code",
      "source": [
        "#Identifiers = variables, functions, modules, classes\n",
        "\n",
        "# key words = To find the current keyword list, you use the following code:\n",
        "\n",
        "import keyword\n",
        "print(keyword.kwlist)"
      ],
      "metadata": {
        "colab": {
          "base_uri": "https://localhost:8080/"
        },
        "id": "Ae12AD2DSWIn",
        "outputId": "9d1eca02-4a26-467f-ae42-118ff537d0ac"
      },
      "execution_count": 10,
      "outputs": [
        {
          "output_type": "stream",
          "name": "stdout",
          "text": [
            "['False', 'None', 'True', 'and', 'as', 'assert', 'async', 'await', 'break', 'class', 'continue', 'def', 'del', 'elif', 'else', 'except', 'finally', 'for', 'from', 'global', 'if', 'import', 'in', 'is', 'lambda', 'nonlocal', 'not', 'or', 'pass', 'raise', 'return', 'try', 'while', 'with', 'yield']\n"
          ]
        }
      ]
    },
    {
      "cell_type": "code",
      "source": [
        "#String Laterals\n",
        "#Python uses single quotes ('), double quotes (\"), triple single quotes (''') and triple-double quotes (\"\"\") to denote a string literal.\n",
        "\n",
        "s= 'This is a String'\n",
        "print(s)\n",
        "\n",
        "s=\"This is another String\"\n",
        "print(s)\n",
        "\n",
        "s='''This is another another string'''\n",
        "print(s)"
      ],
      "metadata": {
        "colab": {
          "base_uri": "https://localhost:8080/"
        },
        "id": "6qvRqM2ATJ6V",
        "outputId": "9c539bca-6154-454a-ba63-ab5439dbb50e"
      },
      "execution_count": 11,
      "outputs": [
        {
          "output_type": "stream",
          "name": "stdout",
          "text": [
            "This is a String\n",
            "This is another String\n",
            "This is another another string\n"
          ]
        }
      ]
    },
    {
      "cell_type": "code",
      "source": [
        "#Python Variables\n",
        "\n",
        "message='Hellow world!'\n",
        "print(message)\n",
        "\n",
        "message ='''Good bye'''\n",
        "print(message)"
      ],
      "metadata": {
        "colab": {
          "base_uri": "https://localhost:8080/"
        },
        "id": "1NsiyKExUI9M",
        "outputId": "05f633e5-9765-4483-f57d-2b7994de7908"
      },
      "execution_count": 12,
      "outputs": [
        {
          "output_type": "stream",
          "name": "stdout",
          "text": [
            "Hellow world!\n",
            "Good bye\n"
          ]
        }
      ]
    },
    {
      "cell_type": "markdown",
      "source": [
        "Naming variables\n",
        "\n",
        " The following are the variable rules that you should keep in mind:\n",
        "\n",
        " •Variable names can contain only letters, numbers, and underscores (_).\n",
        "\n",
        "•They can start with a letter or an underscore (_), not with a number.\n",
        "\n",
        " •Variable names cannot contain spaces.\n",
        "\n",
        " •o separate words in variables, you use underscores for example sorted_list.\n",
        "\n",
        " •Variable names cannot be the same as keywords, reserved words, and built-in functions\n",
        "in Python"
      ],
      "metadata": {
        "id": "ayvIQ3p4UZTd"
      }
    },
    {
      "cell_type": "code",
      "source": [
        "#Python Numbers\n",
        "\n",
        "#integers\n",
        "\n",
        "a=20\n",
        "b=10\n",
        "\n",
        "sum=a+b\n",
        "print(sum)\n",
        "\n",
        "substraction= a-b\n",
        "print(substraction)\n",
        "\n",
        "multiplication =a*b\n",
        "print(multiplication)\n",
        "\n",
        "division=a/b\n",
        "print(division)\n",
        "\n",
        "power= a**b\n",
        "print(power)\n",
        "\n",
        "answer= b/(a+a)\n",
        "print(answer)"
      ],
      "metadata": {
        "colab": {
          "base_uri": "https://localhost:8080/"
        },
        "id": "f4E9TrNPU-vi",
        "outputId": "2f7cf156-0705-4ce4-c159-8486e1e5d0a5"
      },
      "execution_count": 14,
      "outputs": [
        {
          "output_type": "stream",
          "name": "stdout",
          "text": [
            "30\n",
            "10\n",
            "200\n",
            "2.0\n",
            "10240000000000\n",
            "0.25\n"
          ]
        }
      ]
    },
    {
      "cell_type": "code",
      "source": [
        "#Floats\n",
        "\n",
        "a=0.5\n",
        "\n",
        "print(a+a)\n",
        "print(a-a)\n",
        "print(a/a)\n",
        "print(a*a)\n",
        "print(a/a)\n",
        "print(1+2.0)\n",
        "print(0.1+0.2)"
      ],
      "metadata": {
        "colab": {
          "base_uri": "https://localhost:8080/"
        },
        "id": "cGtGuUMMV8Sb",
        "outputId": "4401993e-6612-4c0c-f55c-197867eee1a6"
      },
      "execution_count": 15,
      "outputs": [
        {
          "output_type": "stream",
          "name": "stdout",
          "text": [
            "1.0\n",
            "0.0\n",
            "1.0\n",
            "0.25\n",
            "1.0\n",
            "3.0\n",
            "0.30000000000000004\n"
          ]
        }
      ]
    },
    {
      "cell_type": "code",
      "source": [
        "#Underscores in numbers\n",
        "# When a number is large, it’ll become difficult to read. For example\n",
        "\n",
        "count = 10000000000\n",
        "\n",
        "# To make the long numbers more readable, you can group digits using underscores,like this:\n",
        "count = 10_000_000_000\n",
        "print(count)"
      ],
      "metadata": {
        "colab": {
          "base_uri": "https://localhost:8080/"
        },
        "id": "ELKFVadeWcaG",
        "outputId": "ddb76443-c00a-4670-bf94-1aec13647cd0"
      },
      "execution_count": 16,
      "outputs": [
        {
          "output_type": "stream",
          "name": "stdout",
          "text": [
            "10000000000\n"
          ]
        }
      ]
    },
    {
      "cell_type": "code",
      "source": [
        "#Python String\n",
        "message = ' this is a string in python'\n",
        "print(message)\n",
        "\n",
        "message = \"This is also a string\"\n",
        "print(message)\n",
        "\n",
        "message = 'It\"s a string'\n",
        "print(message)\n",
        "\n",
        "thought='\"Beutiful is better than ugly.\"said tim'\n",
        "print(thought)\n",
        "\n",
        "#To escape the quotes, you use the backslash (\\). For example:\n",
        "message= 'it\\'also a valid string'\n",
        "print(message)"
      ],
      "metadata": {
        "colab": {
          "base_uri": "https://localhost:8080/"
        },
        "id": "MXfIqXysW1I8",
        "outputId": "914cb1cf-75b1-44e5-f807-45dc247aa94d"
      },
      "execution_count": 17,
      "outputs": [
        {
          "output_type": "stream",
          "name": "stdout",
          "text": [
            " this is a string in python\n",
            "This is also a string\n",
            "It\"s a string\n",
            "\"Beutiful is better than ugly.\"said tim\n",
            "it'also a valid string\n"
          ]
        }
      ]
    },
    {
      "cell_type": "code",
      "source": [
        "#Creating multiline strings\n",
        "#use triple quotes \"\"\"......\"\"\"  or '''....'''\n",
        "help_message= '''\n",
        "usage:mysql command\n",
        "-h hostname\n",
        "-d database name\n",
        "-user name\n",
        "-p password\n",
        "'''\n",
        "print(help_message)"
      ],
      "metadata": {
        "colab": {
          "base_uri": "https://localhost:8080/"
        },
        "id": "jRjL8AlHX_xG",
        "outputId": "cbe87f0d-aac8-4d6f-bda7-05e7a70be659"
      },
      "execution_count": 18,
      "outputs": [
        {
          "output_type": "stream",
          "name": "stdout",
          "text": [
            "\n",
            "usage:mysql command\n",
            "-h hostname\n",
            "-d database name\n",
            "-user name\n",
            "-p password\n",
            "\n"
          ]
        }
      ]
    },
    {
      "cell_type": "code",
      "source": [
        "#Concatenating Python strings\n",
        "\n",
        "greeting='Good' 'morning!'\n",
        "print(greeting)\n",
        "\n",
        "\n",
        "greating ='good'\n",
        "time = 'aftrenoon'\n",
        "\n",
        "greeting=greeting+\" \"+time+'!'\n",
        "print(greeting)"
      ],
      "metadata": {
        "colab": {
          "base_uri": "https://localhost:8080/"
        },
        "id": "sKtUDG6UYjAM",
        "outputId": "2741d14c-7840-4a66-a940-82ff9c6f83b5"
      },
      "execution_count": 22,
      "outputs": [
        {
          "output_type": "stream",
          "name": "stdout",
          "text": [
            "Goodmorning!\n",
            "Goodmorning! aftrenoon!\n"
          ]
        }
      ]
    },
    {
      "cell_type": "code",
      "source": [
        "#Accessing string elements\n",
        "\n",
        "str='python string'\n",
        "print(str[0])\n",
        "print(str[1])\n",
        "\n",
        "print(str[-1])\n",
        "print(str[-3])"
      ],
      "metadata": {
        "colab": {
          "base_uri": "https://localhost:8080/"
        },
        "id": "Pg7qfrgfZI3F",
        "outputId": "87640786-b280-4e57-b8c9-9479a2336f91"
      },
      "execution_count": 23,
      "outputs": [
        {
          "output_type": "stream",
          "name": "stdout",
          "text": [
            "p\n",
            "y\n",
            "g\n",
            "i\n"
          ]
        }
      ]
    },
    {
      "cell_type": "code",
      "source": [
        "#length of the string\n",
        "str='python string'\n",
        "str_len=len(str)\n",
        "print(str_len)"
      ],
      "metadata": {
        "colab": {
          "base_uri": "https://localhost:8080/"
        },
        "id": "8VsrH-dvZjWV",
        "outputId": "33660a66-0fc2-469a-e5e7-02a0205ccbf2"
      },
      "execution_count": 24,
      "outputs": [
        {
          "output_type": "stream",
          "name": "stdout",
          "text": [
            "13\n"
          ]
        }
      ]
    },
    {
      "cell_type": "code",
      "source": [
        "#slicing string\n",
        "\n",
        "str='python string'\n",
        "print(str[0:2])\n",
        "\n",
        "print(str[1:2])\n",
        "print(str[::])\n",
        "print(str[::2])"
      ],
      "metadata": {
        "colab": {
          "base_uri": "https://localhost:8080/"
        },
        "id": "FqUp7qOtaFvl",
        "outputId": "6b23e208-cd84-407f-ecd6-5a646d32d4e9"
      },
      "execution_count": 28,
      "outputs": [
        {
          "output_type": "stream",
          "name": "stdout",
          "text": [
            "py\n",
            "y\n",
            "python string\n",
            "pto tig\n"
          ]
        }
      ]
    },
    {
      "cell_type": "code",
      "source": [
        "#• Python strings are immutable. • Python strings are immutable . It means that you cannot change the string. For example, you’ll get an error if you update one or more characters in a string\n",
        "\n",
        "str='python string'\n",
        "#str[0]='4'\n",
        "\n",
        "\n",
        "# When want to modify a string, you need to create a new one from the existing string. For example\n",
        "\n",
        "str ='python string'\n",
        "new_str='j'+str[1:]\n",
        "print(new_str)"
      ],
      "metadata": {
        "colab": {
          "base_uri": "https://localhost:8080/"
        },
        "id": "G90BVpVGaout",
        "outputId": "f15c962e-ae6d-43c3-8332-6f8880e58e2d"
      },
      "execution_count": 31,
      "outputs": [
        {
          "output_type": "stream",
          "name": "stdout",
          "text": [
            "jython string\n"
          ]
        }
      ]
    }
  ]
}